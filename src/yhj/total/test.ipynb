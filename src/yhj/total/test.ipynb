{
 "cells": [
  {
   "cell_type": "code",
   "execution_count": 1,
   "metadata": {},
   "outputs": [
    {
     "name": "stdout",
     "output_type": "stream",
     "text": [
      "10\n",
      "20\n"
     ]
    }
   ],
   "source": [
    "class MyClass:\n",
    "    def __init__(self):\n",
    "        self.x = 10\n",
    "        self.y = 20\n",
    "\n",
    "obj = MyClass()\n",
    "\n",
    "# 속성 동적으로 가져오기\n",
    "attr_name = \"x\"\n",
    "value = getattr(obj, attr_name)\n",
    "print(value)  # 출력: 10\n",
    "\n",
    "attr_name = \"y\"\n",
    "value = getattr(obj, attr_name)\n",
    "print(value)  # 출력: 20\n"
   ]
  },
  {
   "cell_type": "code",
   "execution_count": 5,
   "metadata": {},
   "outputs": [
    {
     "data": {
      "text/plain": [
       "'everyone'"
      ]
     },
     "execution_count": 5,
     "metadata": {},
     "output_type": "execute_result"
    }
   ],
   "source": [
    "text = \"Hello everyone\"\n",
    "prefix = text.split(\" \")[-1]\n",
    "prefix"
   ]
  },
  {
   "cell_type": "code",
   "execution_count": 7,
   "metadata": {},
   "outputs": [
    {
     "name": "stdout",
     "output_type": "stream",
     "text": [
      "Original Sentence: This is a sample sentence.\n",
      "New Sentence: This is a sample word\n"
     ]
    }
   ],
   "source": [
    "def replace_last_word(sentence, new_word):\n",
    "    words = sentence.split()  # 문장을 공백을 기준으로 단어로 분리\n",
    "    if not words:\n",
    "        return \"\"  # 빈 문장일 경우 처리\n",
    "\n",
    "    words[-1] = new_word  # 마지막 단어를 새로운 단어로 교체\n",
    "    new_sentence = \" \".join(words)  # 단어들을 다시 문장으로 합치기\n",
    "    return new_sentence\n",
    "\n",
    "# 예제 문장과 새로운 단어\n",
    "sentence = \"This is a sample sentence.\"\n",
    "new_word = \"word\"\n",
    "\n",
    "# 문장의 마지막 단어를 새로운 단어로 교체\n",
    "new_sentence = replace_last_word(sentence, new_word)\n",
    "print(\"Original Sentence:\", sentence)\n",
    "print(\"New Sentence:\", new_sentence)"
   ]
  },
  {
   "cell_type": "code",
   "execution_count": 9,
   "metadata": {},
   "outputs": [],
   "source": [
    "from hangul_utils import join_jamos\n",
    "from jamos import gesture2text, cons, vowels, cons_double\n",
    "\n"
   ]
  },
  {
   "cell_type": "code",
   "execution_count": 10,
   "metadata": {},
   "outputs": [
    {
     "data": {
      "text/plain": [
       "'이'"
      ]
     },
     "execution_count": 10,
     "metadata": {},
     "output_type": "execute_result"
    }
   ],
   "source": [
    "gesture2text('아로')"
   ]
  },
  {
   "cell_type": "code",
   "execution_count": 9,
   "metadata": {},
   "outputs": [
    {
     "data": {
      "text/html": [
       "<div>\n",
       "<style scoped>\n",
       "    .dataframe tbody tr th:only-of-type {\n",
       "        vertical-align: middle;\n",
       "    }\n",
       "\n",
       "    .dataframe tbody tr th {\n",
       "        vertical-align: top;\n",
       "    }\n",
       "\n",
       "    .dataframe thead th {\n",
       "        text-align: right;\n",
       "    }\n",
       "</style>\n",
       "<table border=\"1\" class=\"dataframe\">\n",
       "  <thead>\n",
       "    <tr style=\"text-align: right;\">\n",
       "      <th></th>\n",
       "      <th>word</th>\n",
       "      <th>frequency</th>\n",
       "    </tr>\n",
       "  </thead>\n",
       "  <tbody>\n",
       "    <tr>\n",
       "      <th>0</th>\n",
       "      <td>안녕하세요</td>\n",
       "      <td>0</td>\n",
       "    </tr>\n",
       "    <tr>\n",
       "      <th>1</th>\n",
       "      <td>고마워요</td>\n",
       "      <td>0</td>\n",
       "    </tr>\n",
       "    <tr>\n",
       "      <th>2</th>\n",
       "      <td>죄송합니다</td>\n",
       "      <td>0</td>\n",
       "    </tr>\n",
       "    <tr>\n",
       "      <th>3</th>\n",
       "      <td>괜찮아요</td>\n",
       "      <td>0</td>\n",
       "    </tr>\n",
       "    <tr>\n",
       "      <th>4</th>\n",
       "      <td>미안해요</td>\n",
       "      <td>0</td>\n",
       "    </tr>\n",
       "    <tr>\n",
       "      <th>...</th>\n",
       "      <td>...</td>\n",
       "      <td>...</td>\n",
       "    </tr>\n",
       "    <tr>\n",
       "      <th>71</th>\n",
       "      <td>나빠요</td>\n",
       "      <td>0</td>\n",
       "    </tr>\n",
       "    <tr>\n",
       "      <th>72</th>\n",
       "      <td>약을</td>\n",
       "      <td>0</td>\n",
       "    </tr>\n",
       "    <tr>\n",
       "      <th>73</th>\n",
       "      <td>병원에</td>\n",
       "      <td>0</td>\n",
       "    </tr>\n",
       "    <tr>\n",
       "      <th>74</th>\n",
       "      <td>어디서</td>\n",
       "      <td>0</td>\n",
       "    </tr>\n",
       "    <tr>\n",
       "      <th>75</th>\n",
       "      <td>약국이</td>\n",
       "      <td>0</td>\n",
       "    </tr>\n",
       "  </tbody>\n",
       "</table>\n",
       "<p>76 rows × 2 columns</p>\n",
       "</div>"
      ],
      "text/plain": [
       "     word  frequency\n",
       "0   안녕하세요          0\n",
       "1    고마워요          0\n",
       "2   죄송합니다          0\n",
       "3    괜찮아요          0\n",
       "4    미안해요          0\n",
       "..    ...        ...\n",
       "71    나빠요          0\n",
       "72     약을          0\n",
       "73    병원에          0\n",
       "74    어디서          0\n",
       "75    약국이          0\n",
       "\n",
       "[76 rows x 2 columns]"
      ]
     },
     "execution_count": 9,
     "metadata": {},
     "output_type": "execute_result"
    }
   ],
   "source": [
    "import pandas as pd\n",
    "\n",
    "daily_words = [\n",
    "    \"안녕하세요\",\n",
    "    \"고마워요\",\n",
    "    \"죄송합니다\",\n",
    "    \"괜찮아요\",\n",
    "    \"미안해요\",\n",
    "    \"잘 자요\",\n",
    "    \"안녕히 가세요\",\n",
    "    \"잘 부탁드려요\",\n",
    "    \"음료수\",\n",
    "    \"메뉴판\",\n",
    "    \"앉을게요\",\n",
    "    \"좋아해요\",\n",
    "    \"좋아하지\",\n",
    "    \"사랑해요\",\n",
    "    \"전화할게요\",\n",
    "    \"날씨\",\n",
    "    \"춥네요\",\n",
    "    \"기분이\",\n",
    "    \"생각해요\",\n",
    "    \"놀러\",\n",
    "    \"점심\",\n",
    "    \"먹고\",\n",
    "    \"음식점\",\n",
    "    \"일정이\",\n",
    "    \"밥\",\n",
    "    \"커피\",\n",
    "    \"영화\",\n",
    "    \"하루\",\n",
    "    \"화이팅\",\n",
    "    \"힘내세요\",\n",
    "    \"잘했어요\",\n",
    "    \"기다려주세요\",\n",
    "    \"시간이\",\n",
    "    \"얼마나\",\n",
    "    \"화장실\",\n",
    "    \"도와주세요\",\n",
    "    \"음식점\",\n",
    "    \"추천해\",\n",
    "    \"주변에\",\n",
    "    \"마트가\",\n",
    "    \"얼마인가요\",\n",
    "    \"카드로\",\n",
    "    \"식사\",\n",
    "    \"물건\",\n",
    "    \"옷을\",\n",
    "    \"어디가\",\n",
    "    \"비가\",\n",
    "    \"춥겠네요\",\n",
    "    \"더운\",\n",
    "    \"더워요\",\n",
    "    \"비가\",\n",
    "    \"맑은\",\n",
    "    \"옷을\",\n",
    "    \"얼굴이\",\n",
    "    \"턱이\",\n",
    "    \"얼마예요\",\n",
    "    \"현금으로\",\n",
    "    \"계산서\",\n",
    "    \"문을\",\n",
    "    \"몇\",\n",
    "    \"이\",\n",
    "    \"내려주세요\",\n",
    "    \"여기에서\",\n",
    "    \"비상구가\",\n",
    "    \"길을\",\n",
    "    \"반대\",\n",
    "    \"마음이\",\n",
    "    \"두통이\",\n",
    "    \"목이\",\n",
    "    \"다리가\",\n",
    "    \"배가\",\n",
    "    \"나빠요\",\n",
    "    \"약을\",\n",
    "    \"병원에\",\n",
    "    \"어디서\",\n",
    "    \"약국이\"\n",
    "]\n",
    "daily_words_df = pd.DataFrame({'word': daily_words, 'frequency': 0})\n",
    "daily_words_df"
   ]
  },
  {
   "cell_type": "code",
   "execution_count": 34,
   "metadata": {},
   "outputs": [],
   "source": [
    "daily_words_df.to_csv('autocorrect.csv', index=False)"
   ]
  },
  {
   "cell_type": "code",
   "execution_count": 35,
   "metadata": {},
   "outputs": [
    {
     "data": {
      "text/html": [
       "<div>\n",
       "<style scoped>\n",
       "    .dataframe tbody tr th:only-of-type {\n",
       "        vertical-align: middle;\n",
       "    }\n",
       "\n",
       "    .dataframe tbody tr th {\n",
       "        vertical-align: top;\n",
       "    }\n",
       "\n",
       "    .dataframe thead th {\n",
       "        text-align: right;\n",
       "    }\n",
       "</style>\n",
       "<table border=\"1\" class=\"dataframe\">\n",
       "  <thead>\n",
       "    <tr style=\"text-align: right;\">\n",
       "      <th></th>\n",
       "      <th>word</th>\n",
       "      <th>frequency</th>\n",
       "    </tr>\n",
       "  </thead>\n",
       "  <tbody>\n",
       "    <tr>\n",
       "      <th>0</th>\n",
       "      <td>안녕하세요</td>\n",
       "      <td>0</td>\n",
       "    </tr>\n",
       "    <tr>\n",
       "      <th>1</th>\n",
       "      <td>고마워요</td>\n",
       "      <td>0</td>\n",
       "    </tr>\n",
       "    <tr>\n",
       "      <th>2</th>\n",
       "      <td>죄송합니다</td>\n",
       "      <td>0</td>\n",
       "    </tr>\n",
       "    <tr>\n",
       "      <th>3</th>\n",
       "      <td>괜찮아요</td>\n",
       "      <td>0</td>\n",
       "    </tr>\n",
       "    <tr>\n",
       "      <th>4</th>\n",
       "      <td>미안해요</td>\n",
       "      <td>0</td>\n",
       "    </tr>\n",
       "    <tr>\n",
       "      <th>...</th>\n",
       "      <td>...</td>\n",
       "      <td>...</td>\n",
       "    </tr>\n",
       "    <tr>\n",
       "      <th>71</th>\n",
       "      <td>나빠요</td>\n",
       "      <td>0</td>\n",
       "    </tr>\n",
       "    <tr>\n",
       "      <th>72</th>\n",
       "      <td>약을</td>\n",
       "      <td>0</td>\n",
       "    </tr>\n",
       "    <tr>\n",
       "      <th>73</th>\n",
       "      <td>병원에</td>\n",
       "      <td>0</td>\n",
       "    </tr>\n",
       "    <tr>\n",
       "      <th>74</th>\n",
       "      <td>어디서</td>\n",
       "      <td>0</td>\n",
       "    </tr>\n",
       "    <tr>\n",
       "      <th>75</th>\n",
       "      <td>약국이</td>\n",
       "      <td>0</td>\n",
       "    </tr>\n",
       "  </tbody>\n",
       "</table>\n",
       "<p>76 rows × 2 columns</p>\n",
       "</div>"
      ],
      "text/plain": [
       "     word  frequency\n",
       "0   안녕하세요          0\n",
       "1    고마워요          0\n",
       "2   죄송합니다          0\n",
       "3    괜찮아요          0\n",
       "4    미안해요          0\n",
       "..    ...        ...\n",
       "71    나빠요          0\n",
       "72     약을          0\n",
       "73    병원에          0\n",
       "74    어디서          0\n",
       "75    약국이          0\n",
       "\n",
       "[76 rows x 2 columns]"
      ]
     },
     "execution_count": 35,
     "metadata": {},
     "output_type": "execute_result"
    }
   ],
   "source": [
    "word_df = pd.read_csv('autocorrect.csv')\n",
    "word_df.dropna(subset=['word'], inplace=True)\n",
    "word_df"
   ]
  },
  {
   "cell_type": "code",
   "execution_count": 2,
   "metadata": {},
   "outputs": [
    {
     "name": "stderr",
     "output_type": "stream",
     "text": [
      "/tmp/ipykernel_2761/2654643933.py:1: DeprecationWarning: \n",
      "Pyarrow will become a required dependency of pandas in the next major release of pandas (pandas 3.0),\n",
      "(to allow more performant data types, such as the Arrow string type, and better interoperability with other libraries)\n",
      "but was not found to be installed on your system.\n",
      "If this would cause problems for you,\n",
      "please provide us feedback at https://github.com/pandas-dev/pandas/issues/54466\n",
      "        \n",
      "  import pandas as pd\n"
     ]
    }
   ],
   "source": [
    "import pandas as pd\n",
    "\n",
    "class TrieNode:\n",
    "    def __init__(self):\n",
    "        self.children = {}\n",
    "        self.is_end_of_word = False\n",
    "\n",
    "class Trie:\n",
    "    def __init__(self):\n",
    "        self.root = TrieNode()\n",
    "\n",
    "    def insert(self, word):\n",
    "        node = self.root\n",
    "        for char in word:\n",
    "            if char not in node.children:\n",
    "                node.children[char] = TrieNode()\n",
    "            node = node.children[char]\n",
    "        node.is_end_of_word = True\n",
    "        \n",
    "    def get_words_with_prefix(self, prefix):\n",
    "        if not prefix:  # 만약 접두사가 공백이면 빈 리스트를 반환\n",
    "            return []\n",
    "\n",
    "        node = self.root\n",
    "        for char in prefix:\n",
    "            if char not in node.children:\n",
    "                return []\n",
    "            node = node.children[char]\n",
    "        \n",
    "        words = []\n",
    "        self._collect_words(node, prefix, words)\n",
    "        return words\n",
    "    \n",
    "    def _collect_words(self, node, prefix, words):\n",
    "        if node.is_end_of_word:\n",
    "            words.append(prefix)\n",
    "        \n",
    "        for char, child_node in node.children.items():\n",
    "            self._collect_words(child_node, prefix + char, words)"
   ]
  },
  {
   "cell_type": "code",
   "execution_count": 18,
   "metadata": {},
   "outputs": [
    {
     "name": "stdout",
     "output_type": "stream",
     "text": [
      "Predicted words:\n",
      "안녕하세요\n",
      "안녕하세요1\n",
      "안녕하세요2\n",
      "안녕하세요3\n",
      "안녕하세요4\n"
     ]
    }
   ],
   "source": [
    "trie = Trie()\n",
    "\n",
    "word_df=pd.read_csv('autocorrect.csv').sort_values(by='frequency', ascending=False).reset_index(drop=True)\n",
    "words = word_df['word']\n",
    "for word in words:\n",
    "    trie.insert(word)\n",
    "\n",
    "input_str = input(\"Enter a prefix: \")\n",
    "suggestions = trie.get_words_with_prefix(input_str)\n",
    "if suggestions:\n",
    "    print(\"Predicted words:\")\n",
    "    for word in suggestions:\n",
    "        print(word)\n",
    "else:\n",
    "    print(\"No predictions found.\")\n"
   ]
  },
  {
   "cell_type": "code",
   "execution_count": 19,
   "metadata": {},
   "outputs": [
    {
     "data": {
      "text/html": [
       "<div>\n",
       "<style scoped>\n",
       "    .dataframe tbody tr th:only-of-type {\n",
       "        vertical-align: middle;\n",
       "    }\n",
       "\n",
       "    .dataframe tbody tr th {\n",
       "        vertical-align: top;\n",
       "    }\n",
       "\n",
       "    .dataframe thead th {\n",
       "        text-align: right;\n",
       "    }\n",
       "</style>\n",
       "<table border=\"1\" class=\"dataframe\">\n",
       "  <thead>\n",
       "    <tr style=\"text-align: right;\">\n",
       "      <th></th>\n",
       "      <th>word</th>\n",
       "      <th>frequency</th>\n",
       "    </tr>\n",
       "  </thead>\n",
       "  <tbody>\n",
       "    <tr>\n",
       "      <th>0</th>\n",
       "      <td>안녕하세요1</td>\n",
       "      <td>11</td>\n",
       "    </tr>\n",
       "    <tr>\n",
       "      <th>1</th>\n",
       "      <td>안녕하세요</td>\n",
       "      <td>6</td>\n",
       "    </tr>\n",
       "    <tr>\n",
       "      <th>2</th>\n",
       "      <td>안녕하세요2</td>\n",
       "      <td>3</td>\n",
       "    </tr>\n",
       "    <tr>\n",
       "      <th>3</th>\n",
       "      <td>안녕하세요3</td>\n",
       "      <td>2</td>\n",
       "    </tr>\n",
       "    <tr>\n",
       "      <th>4</th>\n",
       "      <td>안녕하세요4</td>\n",
       "      <td>1</td>\n",
       "    </tr>\n",
       "    <tr>\n",
       "      <th>...</th>\n",
       "      <td>...</td>\n",
       "      <td>...</td>\n",
       "    </tr>\n",
       "    <tr>\n",
       "      <th>75</th>\n",
       "      <td>커피</td>\n",
       "      <td>0</td>\n",
       "    </tr>\n",
       "    <tr>\n",
       "      <th>76</th>\n",
       "      <td>밥</td>\n",
       "      <td>0</td>\n",
       "    </tr>\n",
       "    <tr>\n",
       "      <th>77</th>\n",
       "      <td>일정이</td>\n",
       "      <td>0</td>\n",
       "    </tr>\n",
       "    <tr>\n",
       "      <th>78</th>\n",
       "      <td>음식점</td>\n",
       "      <td>0</td>\n",
       "    </tr>\n",
       "    <tr>\n",
       "      <th>79</th>\n",
       "      <td>기다려주세요</td>\n",
       "      <td>0</td>\n",
       "    </tr>\n",
       "  </tbody>\n",
       "</table>\n",
       "<p>80 rows × 2 columns</p>\n",
       "</div>"
      ],
      "text/plain": [
       "      word  frequency\n",
       "0   안녕하세요1         11\n",
       "1    안녕하세요          6\n",
       "2   안녕하세요2          3\n",
       "3   안녕하세요3          2\n",
       "4   안녕하세요4          1\n",
       "..     ...        ...\n",
       "75      커피          0\n",
       "76       밥          0\n",
       "77     일정이          0\n",
       "78     음식점          0\n",
       "79  기다려주세요          0\n",
       "\n",
       "[80 rows x 2 columns]"
      ]
     },
     "execution_count": 19,
     "metadata": {},
     "output_type": "execute_result"
    }
   ],
   "source": [
    "word_df"
   ]
  },
  {
   "cell_type": "code",
   "execution_count": 20,
   "metadata": {},
   "outputs": [
    {
     "data": {
      "text/plain": [
       "['안녕하세요', '안녕하세요1', '안녕하세요2', '안녕하세요3', '안녕하세요4']"
      ]
     },
     "execution_count": 20,
     "metadata": {},
     "output_type": "execute_result"
    }
   ],
   "source": [
    "suggestions"
   ]
  },
  {
   "cell_type": "code",
   "execution_count": 21,
   "metadata": {},
   "outputs": [
    {
     "name": "stdout",
     "output_type": "stream",
     "text": [
      "[[1], [0], [2], [3], [4]]\n"
     ]
    }
   ],
   "source": [
    "indices = [word_df.index[word_df['word'] == item].tolist() for item in suggestions]\n",
    "print(indices)\n"
   ]
  },
  {
   "cell_type": "code",
   "execution_count": 22,
   "metadata": {},
   "outputs": [
    {
     "name": "stdout",
     "output_type": "stream",
     "text": [
      "[('안녕하세요', 6), ('안녕하세요1', 11), ('안녕하세요2', 3), ('안녕하세요3', 2), ('안녕하세요4', 1)]\n"
     ]
    }
   ],
   "source": [
    "word_list_with_frequency = [(word_df.at[index[0], 'word'], word_df.at[index[0], 'frequency']) for index in indices]\n",
    "print(word_list_with_frequency)"
   ]
  },
  {
   "cell_type": "code",
   "execution_count": 24,
   "metadata": {},
   "outputs": [
    {
     "name": "stdout",
     "output_type": "stream",
     "text": [
      "[('안녕하세요1', 11), ('안녕하세요', 6), ('안녕하세요2', 3), ('안녕하세요3', 2), ('안녕하세요4', 1)]\n"
     ]
    }
   ],
   "source": [
    "sorted_word_list = sorted(word_list_with_frequency, key=lambda x: x[1], reverse=True)\n",
    "\n",
    "print(sorted_word_list)"
   ]
  },
  {
   "cell_type": "code",
   "execution_count": 25,
   "metadata": {},
   "outputs": [
    {
     "name": "stdout",
     "output_type": "stream",
     "text": [
      "['안녕하세요1', '안녕하세요', '안녕하세요2', '안녕하세요3', '안녕하세요4']\n"
     ]
    }
   ],
   "source": [
    "sorted_word_list = [('안녕하세요1', 11), ('안녕하세요', 6), ('안녕하세요2', 3), ('안녕하세요3', 2), ('안녕하세요4', 1)]\n",
    "\n",
    "sorted_words = [word for word, _ in sorted_word_list]\n",
    "\n",
    "print(sorted_words)"
   ]
  },
  {
   "cell_type": "code",
   "execution_count": 74,
   "metadata": {},
   "outputs": [
    {
     "data": {
      "text/html": [
       "<div>\n",
       "<style scoped>\n",
       "    .dataframe tbody tr th:only-of-type {\n",
       "        vertical-align: middle;\n",
       "    }\n",
       "\n",
       "    .dataframe tbody tr th {\n",
       "        vertical-align: top;\n",
       "    }\n",
       "\n",
       "    .dataframe thead th {\n",
       "        text-align: right;\n",
       "    }\n",
       "</style>\n",
       "<table border=\"1\" class=\"dataframe\">\n",
       "  <thead>\n",
       "    <tr style=\"text-align: right;\">\n",
       "      <th></th>\n",
       "      <th>word</th>\n",
       "      <th>frequency</th>\n",
       "    </tr>\n",
       "  </thead>\n",
       "  <tbody>\n",
       "    <tr>\n",
       "      <th>81</th>\n",
       "      <td>안녕</td>\n",
       "      <td>12</td>\n",
       "    </tr>\n",
       "    <tr>\n",
       "      <th>80</th>\n",
       "      <td>안녕5</td>\n",
       "      <td>10</td>\n",
       "    </tr>\n",
       "    <tr>\n",
       "      <th>83</th>\n",
       "      <td>실패하면</td>\n",
       "      <td>9</td>\n",
       "    </tr>\n",
       "    <tr>\n",
       "      <th>82</th>\n",
       "      <td>윤현준</td>\n",
       "      <td>4</td>\n",
       "    </tr>\n",
       "    <tr>\n",
       "      <th>87</th>\n",
       "      <td>혁명아닙니까!</td>\n",
       "      <td>3</td>\n",
       "    </tr>\n",
       "    <tr>\n",
       "      <th>...</th>\n",
       "      <td>...</td>\n",
       "      <td>...</td>\n",
       "    </tr>\n",
       "    <tr>\n",
       "      <th>31</th>\n",
       "      <td>기다려주세요</td>\n",
       "      <td>0</td>\n",
       "    </tr>\n",
       "    <tr>\n",
       "      <th>30</th>\n",
       "      <td>잘했어요</td>\n",
       "      <td>0</td>\n",
       "    </tr>\n",
       "    <tr>\n",
       "      <th>29</th>\n",
       "      <td>힘내세요</td>\n",
       "      <td>0</td>\n",
       "    </tr>\n",
       "    <tr>\n",
       "      <th>28</th>\n",
       "      <td>화이팅</td>\n",
       "      <td>0</td>\n",
       "    </tr>\n",
       "    <tr>\n",
       "      <th>38</th>\n",
       "      <td>주변에</td>\n",
       "      <td>0</td>\n",
       "    </tr>\n",
       "  </tbody>\n",
       "</table>\n",
       "<p>89 rows × 2 columns</p>\n",
       "</div>"
      ],
      "text/plain": [
       "       word  frequency\n",
       "81       안녕         12\n",
       "80      안녕5         10\n",
       "83     실패하면          9\n",
       "82      윤현준          4\n",
       "87  혁명아닙니까!          3\n",
       "..      ...        ...\n",
       "31   기다려주세요          0\n",
       "30     잘했어요          0\n",
       "29     힘내세요          0\n",
       "28      화이팅          0\n",
       "38      주변에          0\n",
       "\n",
       "[89 rows x 2 columns]"
      ]
     },
     "execution_count": 74,
     "metadata": {},
     "output_type": "execute_result"
    }
   ],
   "source": [
    "pd.read_csv('autocorrect.csv').sort_values(by='frequency', ascending=False)"
   ]
  },
  {
   "cell_type": "code",
   "execution_count": null,
   "metadata": {},
   "outputs": [],
   "source": [
    "labels_dict = {\n",
    "    0: 'ㄱ', \n",
    "    1: 'ㄴ', \n",
    "    2: 'ㄷ', \n",
    "    3: 'ㄹ', \n",
    "    4: 'ㅁ', \n",
    "    5: 'ㅂ', \n",
    "    6: 'ㅅ', \n",
    "    7: 'ㅇ', \n",
    "    8: 'ㅈ', \n",
    "    9: 'ㅊ', \n",
    "    10: 'ㅋ', \n",
    "    11: 'ㅌ', \n",
    "    12: 'ㅍ', \n",
    "    13: 'ㅎ', \n",
    "    14: 'ㅏ', \n",
    "    15: 'ㅑ', \n",
    "    16: 'ㅓ', \n",
    "    17: 'ㅕ', \n",
    "    18: 'ㅗ', \n",
    "    19: 'ㅛ', \n",
    "    20: 'ㅜ', \n",
    "    21: 'ㅠ', \n",
    "    22: 'ㅡ', \n",
    "    23: 'ㅣ', \n",
    "    24: 'ㅐ', \n",
    "    25: 'ㅒ', \n",
    "    26: 'ㅔ', \n",
    "    27: 'ㅖ', \n",
    "    30: 'ㅚ',\n",
    "    33: 'ㅟ', \n",
    "    34: 'ㅢ', \n",
    "    35: 'spacebar'\n",
    "    36: 'backspacebar'\n",
    "}"
   ]
  },
  {
   "cell_type": "code",
   "execution_count": 26,
   "metadata": {},
   "outputs": [
    {
     "name": "stdout",
     "output_type": "stream",
     "text": [
      "Folders created successfully.\n"
     ]
    }
   ],
   "source": [
    "import os\n",
    "\n",
    "# Define the data directory\n",
    "DATA_DIR = '/home/hj/amr_ws/ML_DL/data/hand/data/'\n",
    "\n",
    "# Define the labels dictionary\n",
    "labels_dict = {\n",
    "    0: 'ㄱ', \n",
    "    1: 'ㄴ', \n",
    "    2: 'ㄷ', \n",
    "    3: 'ㄹ', \n",
    "    4: 'ㅁ', \n",
    "    5: 'ㅂ', \n",
    "    6: 'ㅅ', \n",
    "    7: 'ㅇ', \n",
    "    8: 'ㅈ', \n",
    "    9: 'ㅊ', \n",
    "    10: 'ㅋ', \n",
    "    11: 'ㅌ', \n",
    "    12: 'ㅍ', \n",
    "    13: 'ㅎ', \n",
    "    14: 'ㅏ', \n",
    "    15: 'ㅑ', \n",
    "    16: 'ㅓ', \n",
    "    17: 'ㅕ', \n",
    "    18: 'ㅗ', \n",
    "    19: 'ㅛ', \n",
    "    20: 'ㅜ', \n",
    "    21: 'ㅠ', \n",
    "    22: 'ㅡ', \n",
    "    23: 'ㅣ', \n",
    "    24: 'ㅐ', \n",
    "    25: 'ㅒ', \n",
    "    26: 'ㅔ', \n",
    "    27: 'ㅖ', \n",
    "    30: 'ㅚ',\n",
    "    33: 'ㅟ', \n",
    "    34: 'ㅢ', \n",
    "    35: 'spacebar',\n",
    "    36: 'backspacebar'\n",
    "}\n",
    "\n",
    "# Iterate over the labels dictionary and create folders\n",
    "for label_idx, label_name in labels_dict.items():\n",
    "    # Construct the directory path for the current label\n",
    "    label_dir = os.path.join(DATA_DIR, label_name)\n",
    "    \n",
    "    # Check if the directory already exists\n",
    "    if not os.path.exists(label_dir):\n",
    "        # Create the directory\n",
    "        os.makedirs(label_dir)\n",
    "\n",
    "# Print a message indicating folder creation is completed\n",
    "print(\"Folders created successfully.\")\n"
   ]
  },
  {
   "cell_type": "code",
   "execution_count": null,
   "metadata": {},
   "outputs": [],
   "source": []
  }
 ],
 "metadata": {
  "kernelspec": {
   "display_name": "opencv",
   "language": "python",
   "name": "python3"
  },
  "language_info": {
   "codemirror_mode": {
    "name": "ipython",
    "version": 3
   },
   "file_extension": ".py",
   "mimetype": "text/x-python",
   "name": "python",
   "nbconvert_exporter": "python",
   "pygments_lexer": "ipython3",
   "version": "3.10.12"
  }
 },
 "nbformat": 4,
 "nbformat_minor": 2
}
