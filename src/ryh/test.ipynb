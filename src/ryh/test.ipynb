{
 "cells": [
  {
   "cell_type": "code",
   "execution_count": 197,
   "metadata": {},
   "outputs": [],
   "source": [
    "import os\n",
    "import re\n",
    "\n",
    "# 경로 설정 (여기서는 예시로 'data_folder'를 사용)\n",
    "directory = '/home/ryu/Downloads/add_data_yhj/ㅖ'\n",
    "\n",
    "# 모든 파일에 대해 반복\n",
    "for filename in os.listdir(directory):\n",
    "    # 파일명에서 숫자 추출\n",
    "    match = re.search(r'(\\d+)', filename)\n",
    "    if match:\n",
    "        number = int(match.group(1))  # 숫자 추출\n",
    "        new_number = number + 700  # 101을 더함\n",
    "        new_filename = filename.replace(str(number), str(new_number))  # 새 파일명 생성\n",
    "        old_file = os.path.join(directory, filename)\n",
    "        new_file = os.path.join(directory, new_filename)\n",
    "        os.rename(old_file, new_file)  # 파일 이름 변경\n"
   ]
  },
  {
   "cell_type": "code",
   "execution_count": 2,
   "metadata": {},
   "outputs": [],
   "source": [
    "df.to_csv('output.csv', index=False) "
   ]
  },
  {
   "cell_type": "code",
   "execution_count": 72,
   "metadata": {},
   "outputs": [],
   "source": [
    "import pandas as pd\n",
    "import pickle\n",
    "\n",
    "# pickle 파일 로드\n",
    "with open('0/200.pickle', 'rb') as f:\n",
    "    data = pickle.load(f)\n",
    "\n",
    "# 데이터프레임으로 변환\n",
    "df = pd.DataFrame(data)\n",
    "\n",
    "# CSV 파일로 저장\n",
    "df.to_csv('output.csv', index=False)  # index=False를 설정하면 인덱스를 CSV 파일에 저장하지 않습니다.\n"
   ]
  },
  {
   "cell_type": "code",
   "execution_count": 113,
   "metadata": {},
   "outputs": [
    {
     "name": "stdout",
     "output_type": "stream",
     "text": [
      "기존 파일명: 0.pickle, 새로운 파일명: 0.pickle\n",
      "기존 파일명: 1.pickle, 새로운 파일명: 1.pickle\n"
     ]
    }
   ],
   "source": [
    "import os\n",
    "\n",
    "# 폴더 경로\n",
    "folder_path = '/home/ryu/amr_ws/ml_drl/deeplearning-repo-5/data/5/'\n",
    "\n",
    "# 폴더 내의 모든 파일 읽기\n",
    "files = os.listdir(folder_path)\n",
    "\n",
    "# .pickle 파일만 필터링하여 가져오기\n",
    "pickle_files = [file for file in files if file.endswith('.pickle')]\n",
    "\n",
    "# 파일명 변경 및 저장\n",
    "for i, file in enumerate(pickle_files):\n",
    "    # 새로운 파일명 생성\n",
    "    new_filename = str(i) + '.pickle'\n",
    "    \n",
    "    # 기존 파일명과 새로운 파일명 출력\n",
    "    print(f'기존 파일명: {file}, 새로운 파일명: {new_filename}')\n",
    "    \n",
    "    # 파일 이동 (이름 변경)\n",
    "    os.rename(os.path.join(folder_path, file), os.path.join(folder_path, new_filename))\n"
   ]
  },
  {
   "cell_type": "code",
   "execution_count": 107,
   "metadata": {},
   "outputs": [
    {
     "ename": "ValueError",
     "evalue": "could not convert string to float: 'x'",
     "output_type": "error",
     "traceback": [
      "\u001b[0;31m---------------------------------------------------------------------------\u001b[0m",
      "\u001b[0;31mValueError\u001b[0m                                Traceback (most recent call last)",
      "Cell \u001b[0;32mIn[107], line 21\u001b[0m\n\u001b[1;32m     17\u001b[0m data \u001b[38;5;241m=\u001b[39m pickle\u001b[38;5;241m.\u001b[39mload(file)\n\u001b[1;32m     19\u001b[0m \u001b[38;5;28;01mfor\u001b[39;00m point_str \u001b[38;5;129;01min\u001b[39;00m data:\n\u001b[1;32m     20\u001b[0m     \u001b[38;5;66;03m# 문자열을 쉼표로 분리하고 각 값을 부동소수점 숫자로 변환\u001b[39;00m\n\u001b[0;32m---> 21\u001b[0m     point_data \u001b[38;5;241m=\u001b[39m [\u001b[38;5;28mfloat\u001b[39m(x) \u001b[38;5;28;01mfor\u001b[39;00m x \u001b[38;5;129;01min\u001b[39;00m point_str\u001b[38;5;241m.\u001b[39msplit(\u001b[38;5;124m'\u001b[39m\u001b[38;5;124m,\u001b[39m\u001b[38;5;124m'\u001b[39m)]\n\u001b[1;32m     22\u001b[0m     \u001b[38;5;66;03m# 각 포인트 데이터에 라벨 추가\u001b[39;00m\n\u001b[1;32m     23\u001b[0m     row \u001b[38;5;241m=\u001b[39m point_data \u001b[38;5;241m+\u001b[39m [label_dir]\n",
      "Cell \u001b[0;32mIn[107], line 21\u001b[0m, in \u001b[0;36m<listcomp>\u001b[0;34m(.0)\u001b[0m\n\u001b[1;32m     17\u001b[0m data \u001b[38;5;241m=\u001b[39m pickle\u001b[38;5;241m.\u001b[39mload(file)\n\u001b[1;32m     19\u001b[0m \u001b[38;5;28;01mfor\u001b[39;00m point_str \u001b[38;5;129;01min\u001b[39;00m data:\n\u001b[1;32m     20\u001b[0m     \u001b[38;5;66;03m# 문자열을 쉼표로 분리하고 각 값을 부동소수점 숫자로 변환\u001b[39;00m\n\u001b[0;32m---> 21\u001b[0m     point_data \u001b[38;5;241m=\u001b[39m [\u001b[38;5;28;43mfloat\u001b[39;49m\u001b[43m(\u001b[49m\u001b[43mx\u001b[49m\u001b[43m)\u001b[49m \u001b[38;5;28;01mfor\u001b[39;00m x \u001b[38;5;129;01min\u001b[39;00m point_str\u001b[38;5;241m.\u001b[39msplit(\u001b[38;5;124m'\u001b[39m\u001b[38;5;124m,\u001b[39m\u001b[38;5;124m'\u001b[39m)]\n\u001b[1;32m     22\u001b[0m     \u001b[38;5;66;03m# 각 포인트 데이터에 라벨 추가\u001b[39;00m\n\u001b[1;32m     23\u001b[0m     row \u001b[38;5;241m=\u001b[39m point_data \u001b[38;5;241m+\u001b[39m [label_dir]\n",
      "\u001b[0;31mValueError\u001b[0m: could not convert string to float: 'x'"
     ]
    }
   ],
   "source": [
    "import pandas as pd\n",
    "import os\n",
    "import pickle\n",
    "\n",
    "DATA_DIR = '/home/ryu/Downloads/sign-korean-language/data'\n",
    "csv_data = []\n",
    "\n",
    "# 각 폴더(라벨)에 대한 반복\n",
    "for label_dir in os.listdir(DATA_DIR):\n",
    "    label_path = os.path.join(DATA_DIR, label_dir)\n",
    "\n",
    "    for filename in os.listdir(label_path):\n",
    "        if filename.endswith('.pickle'):\n",
    "            file_path = os.path.join(label_path, filename)\n",
    "\n",
    "            with open(file_path, 'rb') as file:\n",
    "                data = pickle.load(file)\n",
    "\n",
    "                for point_str in data:\n",
    "                    # 문자열을 쉼표로 분리하고 각 값을 부동소수점 숫자로 변환\n",
    "                    point_data = [float(x) for x in point_str.split(',')]\n",
    "                    # 각 포인트 데이터에 라벨 추가\n",
    "                    row = point_data + [label_dir]\n",
    "                    csv_data.append(row)\n",
    "\n",
    "# 모든 데이터를 DataFrame으로 변환\n",
    "columns = ['x', 'y', 'z', 'label']  # 열 이름 지정\n",
    "final_df = pd.DataFrame(csv_data, columns=columns)\n",
    "\n",
    "# DataFrame을 CSV 파일로 저장\n",
    "csv_file_path = '/path/to/save/skeleton_data.csv'\n",
    "final_df.to_csv(csv_file_path, index=False)\n",
    "\n",
    "print(\"CSV 파일이 저장되었습니다:\", csv_file_path)\n"
   ]
  },
  {
   "cell_type": "code",
   "execution_count": 13,
   "metadata": {},
   "outputs": [
    {
     "name": "stdout",
     "output_type": "stream",
     "text": [
      "0\n",
      "1\n",
      "2\n",
      "3\n",
      "4\n",
      "5\n",
      "6\n",
      "7\n",
      "8\n",
      "9\n",
      "10\n",
      "11\n",
      "12\n",
      "13\n",
      "14\n",
      "15\n",
      "16\n",
      "17\n",
      "18\n",
      "19\n",
      "20\n",
      "21\n",
      "22\n",
      "23\n",
      "24\n",
      "25\n",
      "26\n",
      "27\n",
      "28\n",
      "29\n",
      "30\n",
      "shift\n",
      "space\n",
      "question\n",
      "backspace\n",
      "CSV 파일이 저장되었습니다: old_merge_sp.csv\n"
     ]
    }
   ],
   "source": [
    "import pandas as pd\n",
    "import os\n",
    "import pickle\n",
    "\n",
    "DATA_DIR = '/home/rds/Desktop/git_ws/data/old_data'\n",
    "all_dfs = []\n",
    "DIR = os.listdir(DATA_DIR)\n",
    "DIR.sort(key=lambda x : (len(x), x))\n",
    "\n",
    "for label_dir in DIR:\n",
    "    label_path = os.path.join(DATA_DIR, label_dir)\n",
    "    print(label_dir)\n",
    "    for filename in os.listdir(label_path):\n",
    "        if filename.endswith('.pickle'):\n",
    "            file_path = os.path.join(label_path, filename)\n",
    "\n",
    "            with open(file_path, 'rb') as file:\n",
    "                loaded_data = pickle.load(file)\n",
    "\n",
    "                # 로드된 데이터 확인\n",
    "                # print(f\"Data from {filename}: {loaded_data.head()}\")  # 처음 몇 행 출력\n",
    "\n",
    "                # DataFrame 검증 및 라벨 추가\n",
    "                if isinstance(loaded_data, pd.DataFrame):\n",
    "                    loaded_data['label'] = label_dir\n",
    "                    all_dfs.append(loaded_data)\n",
    "                else:\n",
    "                    print(f\"Unexpected data format in file: {filename}\")\n",
    "\n",
    "# 모든 DataFrame 결합\n",
    "final_df = pd.concat(all_dfs, ignore_index=True)\n",
    "\n",
    "# CSV 파일로 저장\n",
    "csv_file_path = 'old_merge_sp.csv'\n",
    "final_df.to_csv(csv_file_path, index=False)\n",
    "\n",
    "print(\"CSV 파일이 저장되었습니다:\", csv_file_path)\n"
   ]
  },
  {
   "cell_type": "code",
   "execution_count": null,
   "metadata": {},
   "outputs": [],
   "source": []
  }
 ],
 "metadata": {
  "kernelspec": {
   "display_name": "opencv_venv",
   "language": "python",
   "name": "python3"
  },
  "language_info": {
   "codemirror_mode": {
    "name": "ipython",
    "version": 3
   },
   "file_extension": ".py",
   "mimetype": "text/x-python",
   "name": "python",
   "nbconvert_exporter": "python",
   "pygments_lexer": "ipython3",
   "version": "3.10.12"
  }
 },
 "nbformat": 4,
 "nbformat_minor": 2
}
